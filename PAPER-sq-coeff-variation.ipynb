{
 "cells": [
  {
   "cell_type": "markdown",
   "id": "ab76e90c",
   "metadata": {},
   "source": [
    "# Squared coefficient of variation of the multiplexed window problem"
   ]
  },
  {
   "cell_type": "markdown",
   "id": "6966ee50",
   "metadata": {},
   "source": [
    "Attempts are performed in batches. The process ends when the total number of successful attempts in the last $w$ batches is larger or equal to $n$.\n",
    "\n",
    "Parameters:\n",
    " - $n$: total number of successes required.\n",
    " - $k$: number of attempts per batch.\n",
    " - $p$: probability of successful attempt.\n",
    " - $w$: window size (in number of batches).\n",
    "\n",
    "Random variables:\n",
    " - $B$: number of batches until success.\n",
    "\n",
    "In this notebook, we analyze the squared coefficient of variation of the window problem, a quantity that is needed to find the mean sojourn time in QCS."
   ]
  },
  {
   "cell_type": "code",
   "execution_count": 1,
   "id": "1053900c",
   "metadata": {},
   "outputs": [],
   "source": [
    "import numpy as np\n",
    "import math\n",
    "import importlib as imp\n",
    "import QCSsimulator as sim\n",
    "import random\n",
    "import matplotlib.pyplot as plt\n",
    "from tqdm.notebook import tqdm as tqdmn\n",
    "import matplotlib.ticker as ticker"
   ]
  },
  {
   "cell_type": "markdown",
   "id": "2d5df531",
   "metadata": {},
   "source": [
    "&nbsp;\n",
    "</br>\n",
    "&nbsp;\n",
    "</br>\n",
    "&nbsp;\n",
    "</br>\n",
    "\n",
    "\n",
    "## Coefficient of variation of the service time"
   ]
  },
  {
   "cell_type": "markdown",
   "id": "9fc142f2",
   "metadata": {},
   "source": [
    "It can be shown that the coefficient of variation of the service time is larger than the coefficient of variation of the window problem. Here we test a small numerical example:"
   ]
  },
  {
   "cell_type": "code",
   "execution_count": 2,
   "id": "60d06dcb",
   "metadata": {},
   "outputs": [
    {
     "name": "stdout",
     "output_type": "stream",
     "text": [
      "Sq. Coeff. Var. (window):  0.125\n",
      "Sq. Coeff. Var. (service): 0.091\n"
     ]
    }
   ],
   "source": [
    "E_B = 20 # Expected value of number of batches until success\n",
    "E_B2 = 450 # Expected value of squared number of batches until success\n",
    "assert E_B2 >= E_B**2, 'Invalid parameters'\n",
    "\n",
    "x = 44 # In our model, x=2L/c\n",
    "y = 13 # In our model, y=t_fwd0*(2N+1)\n",
    "\n",
    "# ----------------------\n",
    "C_w2 = E_B2/E_B**2 - 1\n",
    "\n",
    "E_Ts = x + y*E_B\n",
    "E_Ts2 = x**2 + 2*x*y*E_B + y**2*E_B2\n",
    "\n",
    "C_s2 = E_Ts2/E_Ts**2 - 1\n",
    "\n",
    "print('Sq. Coeff. Var. (window):  %.3f'%C_w2)\n",
    "print('Sq. Coeff. Var. (service): %.3f'%C_s2)\n",
    "\n",
    "assert C_s2 <= C_w2"
   ]
  },
  {
   "cell_type": "markdown",
   "id": "6f663cea",
   "metadata": {},
   "source": [
    "&nbsp;\n",
    "</br>\n",
    "&nbsp;\n",
    "</br>\n",
    "&nbsp;\n",
    "</br>\n",
    "\n",
    "\n",
    "## Coefficient of variation of the multiplexed window problem"
   ]
  },
  {
   "cell_type": "markdown",
   "id": "f29cc060",
   "metadata": {},
   "source": [
    "The squared coefficient of variation of a positive random variable $X$ is defined as $$C(X)^2 = \\frac{\\mathrm{Var}(X)}{\\left(\\mathbb{E}[X]\\right)^2}.$$\n",
    "\n",
    "The estimate we use for the mean queueing time in M/G/k (necessary to find the mean sojourn time in sQCS) employs the squared coefficient of variation of the service time (this service time is given by the number of batches until completion of a multiplexed window problem). The estimate seems to be worse for large values of the coefficient ($C(X)\\gg 1$), according to empirical data (see Gupta2010 and Whitt1993 (ref. 47 from Gupta2010)).\n",
    "\n",
    "Below, we analyze the coefficient of variation of the multiplexed window problem. For practical reasons, we use our window problem simulator."
   ]
  },
  {
   "cell_type": "code",
   "execution_count": 3,
   "id": "e4068f3c",
   "metadata": {},
   "outputs": [],
   "source": [
    "def compute_and_plot_C2(x_param,z_param,n,w,p,m,N_samples,N_experiments,randomseed,savefig,unbiased=True):\n",
    "\n",
    "    np.random.seed(randomseed)\n",
    "    random.seed(randomseed)\n",
    "\n",
    "    if x_param == 'p':\n",
    "        x_vec = p\n",
    "    elif x_param == 'm':\n",
    "        x_vec = m\n",
    "    elif x_param == 'n':\n",
    "        x_vec = n\n",
    "    elif x_param == 'w':\n",
    "        x_vec = w\n",
    "        \n",
    "    if z_param == 'p':\n",
    "        z_vec = p\n",
    "    elif z_param == 'm':\n",
    "        z_vec = m\n",
    "    elif z_param == 'n':\n",
    "        z_vec = n\n",
    "    elif z_param == 'w':\n",
    "        z_vec = w\n",
    "    elif z_param == 'nw':\n",
    "        z_vec = n\n",
    "        z2_vec = w\n",
    "            \n",
    "    cmap = plt.colormaps['inferno']\n",
    "    colors = [cmap(i) for i in np.linspace(0,0.9,len(z_vec))]\n",
    "    fig, ax = plt.subplots()\n",
    "    \n",
    "    for idx in tqdmn(range(len(z_vec)), leave='False'):\n",
    "        if z_param == 'p':\n",
    "            p = z_vec[idx]\n",
    "        elif z_param == 'm':\n",
    "            m = z_vec[idx]\n",
    "        elif z_param == 'n':\n",
    "            n = z_vec[idx]\n",
    "        elif z_param == 'w':\n",
    "            w = z_vec[idx]\n",
    "        elif z_param == 'nw':\n",
    "            n = z_vec[idx]\n",
    "            w = z2_vec[idx]\n",
    "        x_array_plot = []\n",
    "        C2_vec = []\n",
    "        C2_vec_stderr = []\n",
    "        for x in x_vec:\n",
    "            if x_param == 'p':\n",
    "                p = x\n",
    "            elif x_param == 'm':\n",
    "                m = x\n",
    "            elif x_param == 'n':\n",
    "                n = x\n",
    "            elif x_param == 'w':\n",
    "                w = x\n",
    "            if w*m < n:\n",
    "                continue\n",
    "\n",
    "            x_array_plot += [x]\n",
    "            _C2_exp = []\n",
    "            for N_exp in range(N_experiments):\n",
    "                avg, std, stderr = sim.simulate_multiplexed_window_problem(n, m, w, p, N_samples, None)\n",
    "                if unbiased:\n",
    "                    _C2_exp += [((1+1/(4*N_samples))*std/avg)**2]\n",
    "                else:\n",
    "                    _C2_exp += [std**2/avg**2] # This is a biased estimator!!\n",
    "            C2_vec += [np.mean(_C2_exp)]\n",
    "            C2_vec_stderr += [np.std(_C2_exp)/np.sqrt(N_experiments)]\n",
    "\n",
    "        if len(z_vec) <= 6 or (idx==0 or idx==len(z_vec)-1):\n",
    "            if z_param == 'p':\n",
    "                _label = r'$p = %.2f$'%p\n",
    "            elif z_param == 'm':\n",
    "                _label = r'$m = %d$'%m\n",
    "            elif z_param == 'n':\n",
    "                _label = r'$n = %d$'%n\n",
    "            elif z_param == 'w':\n",
    "                _label = r'$w = %d$'%w\n",
    "            elif z_param == 'nw':\n",
    "                _label = r'$n = %d, w = %d$'%(n,w)\n",
    "        else:\n",
    "                _label = ''\n",
    "        plt.errorbar(x_array_plot, C2_vec, yerr=C2_vec_stderr,\n",
    "                     marker='o', markersize=4, linestyle=':', capsize=3,\n",
    "                     color=colors[idx], label=_label)\n",
    "\n",
    "    # PLOT SPECS\n",
    "    if x_param == 'p':\n",
    "        x_label = r'Prob. successful delivery $p$'\n",
    "    elif x_param == 'm':\n",
    "        x_label = r'Attempts per batch $m$'\n",
    "    elif x_param == 'n':\n",
    "        x_label = r'Successes requested $n$'\n",
    "    elif x_param == 'w':\n",
    "        x_label = r'Window size $w$'\n",
    "    plt.xlabel(x_label)\n",
    "    plt.ylabel(r'Squared Coefficient of Variation')\n",
    "    plt.xlim(x_array_plot[0],x_array_plot[-1])\n",
    "    plt.gca().set_ylim(bottom=0)\n",
    "    plt.gca().set_ylim(top=1.05)\n",
    "    \n",
    "    #yticksvec = [0,0.2,0.4,0.6,0.8,1]\n",
    "    #plt.yticks(ticks=yticksvec, labels=yticksvec)\n",
    "    #ax.set_yticks(yticksvec, minor=True)\n",
    "        \n",
    "    # Major tick location\n",
    "    ax.set_yticks([0,0.2,0.4,0.6,0.8,1])\n",
    "\n",
    "    # Minor tick frequency\n",
    "    y_minor_intervals = 2 # Number of minor intervals between two major ticks\n",
    "    ax.yaxis.set_minor_locator(ticker.AutoMinorLocator(y_minor_intervals))\n",
    "    \n",
    "    plt.legend()\n",
    "\n",
    "    # SAVE\n",
    "    if savefig:\n",
    "        filename = 'figs/PAPER-Cwindow2'\n",
    "        if (not n in [x_param, z_param]) and (not z_param=='nw'):\n",
    "            filename += '-n%d'%n\n",
    "        if (not w in [x_param, z_param]) and (not z_param=='nw'):\n",
    "            filename += '-w%d'%w\n",
    "        if not p in [x_param, z_param]:\n",
    "            filename += '-p%.3f'%p\n",
    "        if not m in [x_param, z_param]:\n",
    "            filename += '-m%d'%m\n",
    "        filename += '_Nsamples%d_Nexp%d_randseed%d.pdf'%(N_samples, N_experiments, randomseed)\n",
    "        plt.savefig(filename, dpi=300, bbox_inches='tight')\n",
    "    else:\n",
    "        plt.show()"
   ]
  },
  {
   "cell_type": "code",
   "execution_count": 4,
   "id": "2a465f94",
   "metadata": {},
   "outputs": [
    {
     "data": {
      "application/vnd.jupyter.widget-view+json": {
       "model_id": "a3f313a480724881b572d652d25e381e",
       "version_major": 2,
       "version_minor": 0
      },
      "text/plain": [
       "  0%|          | 0/6 [00:00<?, ?it/s]"
      ]
     },
     "metadata": {},
     "output_type": "display_data"
    },
    {
     "data": {
      "image/png": "[encoded data removed]",
      "text/plain": [
       "<Figure size 432x288 with 1 Axes>"
      ]
     },
     "metadata": {
      "needs_background": "light"
     },
     "output_type": "display_data"
    }
   ],
   "source": [
    "imp.reload(sim)\n",
    "\n",
    "# Parameters\n",
    "n = 7\n",
    "m = 3\n",
    "w = np.arange(3,16,1)\n",
    "p = np.arange(0.5,1.01,0.1)\n",
    "\n",
    "# Numerical parameters\n",
    "N_samples = 1000\n",
    "N_experiments = 10\n",
    "randomseed = 2\n",
    "\n",
    "# Plot\n",
    "x_param = 'w'\n",
    "z_param = 'p'\n",
    "savefig = True\n",
    "\n",
    "### ---------- ###\n",
    "### ---------- ###\n",
    "\n",
    "compute_and_plot_C2(x_param,z_param,n,w,p,m,N_samples,N_experiments,randomseed,savefig)"
   ]
  },
  {
   "cell_type": "code",
   "execution_count": 5,
   "id": "320ed398",
   "metadata": {},
   "outputs": [
    {
     "data": {
      "application/vnd.jupyter.widget-view+json": {
       "model_id": "02baf9e102fe4b66a3351bf0b147db8e",
       "version_major": 2,
       "version_minor": 0
      },
      "text/plain": [
       "  0%|          | 0/6 [00:00<?, ?it/s]"
      ]
     },
     "metadata": {},
     "output_type": "display_data"
    },
    {
     "data": {
      "image/png": "[encoded data removed]",
      "text/plain": [
       "<Figure size 432x288 with 1 Axes>"
      ]
     },
     "metadata": {
      "needs_background": "light"
     },
     "output_type": "display_data"
    }
   ],
   "source": [
    "imp.reload(sim)\n",
    "\n",
    "# Parameters\n",
    "n = 7\n",
    "m = [1,2]+list(np.arange(5,21,5))\n",
    "w = np.arange(3,16,1)\n",
    "p = 0.7\n",
    "\n",
    "# Numerical parameters\n",
    "N_samples = 1000\n",
    "N_experiments = 10\n",
    "randomseed = 2\n",
    "\n",
    "# Plot\n",
    "x_param = 'w'\n",
    "z_param = 'm'\n",
    "savefig = True\n",
    "\n",
    "### ---------- ###\n",
    "### ---------- ###\n",
    "\n",
    "compute_and_plot_C2(x_param,z_param,n,w,p,m,N_samples,N_experiments,randomseed,savefig)"
   ]
  },
  {
   "cell_type": "code",
   "execution_count": 6,
   "id": "bcb2b63a",
   "metadata": {},
   "outputs": [
    {
     "data": {
      "application/vnd.jupyter.widget-view+json": {
       "model_id": "bec1bae232564d72b466d855fb76929e",
       "version_major": 2,
       "version_minor": 0
      },
      "text/plain": [
       "  0%|          | 0/4 [00:00<?, ?it/s]"
      ]
     },
     "metadata": {},
     "output_type": "display_data"
    },
    {
     "data": {
      "image/png": "[encoded data removed]",
      "text/plain": [
       "<Figure size 432x288 with 1 Axes>"
      ]
     },
     "metadata": {
      "needs_background": "light"
     },
     "output_type": "display_data"
    }
   ],
   "source": [
    "imp.reload(sim)\n",
    "\n",
    "# Parameters\n",
    "n = np.arange(5,21,5)\n",
    "m = 3\n",
    "w = np.arange(3,16,1)\n",
    "p = 0.7\n",
    "\n",
    "# Numerical parameters\n",
    "N_samples = 1000\n",
    "N_experiments = 10\n",
    "randomseed = 2\n",
    "\n",
    "# Plot\n",
    "x_param = 'w'\n",
    "z_param = 'n'\n",
    "savefig = True\n",
    "\n",
    "### ---------- ###\n",
    "### ---------- ###\n",
    "\n",
    "compute_and_plot_C2(x_param,z_param,n,w,p,m,N_samples,N_experiments,randomseed,savefig)"
   ]
  },
  {
   "cell_type": "code",
   "execution_count": null,
   "id": "ce8d35c2",
   "metadata": {},
   "outputs": [
    {
     "data": {
      "application/vnd.jupyter.widget-view+json": {
       "model_id": "d454690832d24e8884b019039fe055f7",
       "version_major": 2,
       "version_minor": 0
      },
      "text/plain": [
       "  0%|          | 0/4 [00:00<?, ?it/s]"
      ]
     },
     "metadata": {},
     "output_type": "display_data"
    }
   ],
   "source": [
    "imp.reload(sim)\n",
    "\n",
    "# Parameters\n",
    "n = [1]+list(np.arange(5,11,2))\n",
    "m = 1 # C2 seems to be maximum for m=1\n",
    "w = [1]+list(np.arange(5,21,5)) # C2 seems to be maximum for small w\n",
    "p = np.linspace(0.2,1,10)\n",
    "\n",
    "# Numerical parameters\n",
    "N_samples = 1000\n",
    "N_experiments = 10\n",
    "randomseed = 2\n",
    "\n",
    "# Plot\n",
    "x_param = 'p'\n",
    "z_param = 'nw'\n",
    "savefig = True\n",
    "\n",
    "### ---------- ###\n",
    "### ---------- ###\n",
    "\n",
    "compute_and_plot_C2(x_param,z_param,n,w,p,m,N_samples,N_experiments,randomseed,savefig)"
   ]
  },
  {
   "cell_type": "code",
   "execution_count": null,
   "id": "19538f20",
   "metadata": {},
   "outputs": [],
   "source": []
  },
  {
   "cell_type": "code",
   "execution_count": null,
   "id": "4d5ebf6d",
   "metadata": {},
   "outputs": [],
   "source": []
  },
  {
   "cell_type": "code",
   "execution_count": null,
   "id": "0d749006",
   "metadata": {},
   "outputs": [],
   "source": []
  },
  {
   "cell_type": "code",
   "execution_count": null,
   "id": "cd08c111",
   "metadata": {},
   "outputs": [],
   "source": []
  },
  {
   "cell_type": "code",
   "execution_count": null,
   "id": "e2122123",
   "metadata": {},
   "outputs": [],
   "source": []
  },
  {
   "cell_type": "code",
   "execution_count": null,
   "id": "70c6fca8",
   "metadata": {},
   "outputs": [],
   "source": []
  },
  {
   "cell_type": "code",
   "execution_count": null,
   "id": "ac79d60f",
   "metadata": {},
   "outputs": [],
   "source": []
  },
  {
   "cell_type": "code",
   "execution_count": null,
   "id": "81f69b08",
   "metadata": {},
   "outputs": [],
   "source": []
  },
  {
   "cell_type": "code",
   "execution_count": null,
   "id": "48fb3055",
   "metadata": {},
   "outputs": [],
   "source": []
  },
  {
   "cell_type": "code",
   "execution_count": null,
   "id": "35af2258",
   "metadata": {},
   "outputs": [],
   "source": []
  },
  {
   "cell_type": "code",
   "execution_count": null,
   "id": "e08483ca",
   "metadata": {},
   "outputs": [],
   "source": [
    "\n"
   ]
  }
 ],
 "metadata": {
  "kernelspec": {
   "display_name": "Python 3",
   "language": "python",
   "name": "python3"
  },
  "language_info": {
   "codemirror_mode": {
    "name": "ipython",
    "version": 3
   },
   "file_extension": ".py",
   "mimetype": "text/x-python",
   "name": "python",
   "nbconvert_exporter": "python",
   "pygments_lexer": "ipython3",
   "version": "3.8.8"
  }
 },
 "nbformat": 4,
 "nbformat_minor": 5
}
