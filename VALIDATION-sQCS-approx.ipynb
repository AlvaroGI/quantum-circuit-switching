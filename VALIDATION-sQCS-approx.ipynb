{
 "cells": [
  {
   "cell_type": "markdown",
   "id": "ab76e90c",
   "metadata": {},
   "source": [
    "# QCS with SEQUENTIAL distribution in a star network - APPROX SOLUTIONS"
   ]
  },
  {
   "cell_type": "markdown",
   "id": "70ee05eb",
   "metadata": {},
   "source": [
    "We consider here a sequential QCS scheme in a star network. In a sequential scheme packets are sent sequentially.\n",
    "\n",
    "Parameters:\n",
    " - `u`: number of users.\n",
    " - `k`: number of forwarding devices.\n",
    " - `p`: probability that the packets arrive at destination and can be decoded successfully.\n",
    " - `n_request`: number of pairs per request.\n",
    " - `w_request`: window size of the request.\n",
    " - `request_rate`: rate of arrival of new requests per pair of users.\n",
    " - `travel_time`: travel time from one user to another through the switch (assume homogeneous network).\n",
    " - `fwd_time`: time required to forward a packet.\n",
    " - `control_time`: time required to communicate with the network controller.\n",
    "\n",
    "Our goal is to compute the Mean Sojourn Time (MST): $$\\mathrm{MST} =  \\mathbb{E}\\left[T_\\mathrm{service}\\right] + \\mathbb{E}\\left[T_\\mathrm{wait}\\right]$$\n",
    "\n",
    "The system can be modelled as an M/G/k queue, where the service time follows a general distribution given by the $(n,w,k,p)$-window problem. There is an analytical solution in the following cases:\n",
    "\n",
    " 1. $p=1$, $k=1$:\n",
    "     - Service time: the number of batches until success in the window problem is $\\mathbb{E}\\left[B_{n,w,1,1}\\right]=n$, and $\\mathrm{Var}\\left[B_{n,w,1,1}\\right]=0$.\n",
    "     - Waiting time: the system becomes an M/D/k queue, whose exact solution is known. However, it is computationally expensive since it involves recursive integrals. For $k=1$ the solution can be easily computed.\n",
    "\n",
    " 2. $w\\rightarrow\\infty$, $k=1$:\n",
    "     - Service time: The number of batches until success in the window problem is $\\mathbb{E}\\left[B_{n,\\infty,1,p}\\right]=n/p$, and $\\mathbb{E}\\left[B_{n,w,1,p}^2\\right]=n(n+1)/p^2 - n/p$, which can be used to compute $\\mathbb{E}\\left[T_\\mathrm{service}\\right]$ and $\\mathrm{Var}\\left[T_\\mathrm{service}\\right]$.\n",
    "     - Waiting time: the system becomes an M/G/1 queue, whose expected waiting time is given by $$\\mathbb{E}\\left[T_\\mathrm{wait}^\\mathrm{M/G/1}\\right] = \\frac{C_\\mathrm{service}^2+1}{2} \\mathbb{E}\\left[T_\\mathrm{wait}^\\mathrm{M/M/1}\\right],$$ where $C_\\mathrm{service}^2 = \\mathrm{Var}\\left[T_\\mathrm{service}\\right]/\\mathbb{E}\\left[T_\\mathrm{service}\\right]^2$ is the squared coefficient of variation of the service time distribution.\n",
    " \n",
    "However, only approximations are known to the more general M/G/k queue. In the following cases, we can only find the MST via approximations (or simulations):\n",
    "\n",
    " 3. $w\\rightarrow\\infty$, $k>1$:\n",
    "     - Service time: given by the solution of the $(n,\\infty,1,p)$-window problem. We have an analytical solution (which involves some nested sums).\n",
    "     - Waiting time: the system becomes an M/G/k queue, where the waiting time can be approximated as $$\\mathbb{E}\\left[T_\\mathrm{wait}^{\\mathrm{M/G/}k}\\right] \\approx \\frac{C_\\mathrm{service}^2+1}{2} \\mathbb{E}\\left[T_\\mathrm{wait}^{\\mathrm{M/M/}k}\\right].$$ This approximation seems to be better for service time distributions with smaller $C_\\mathrm{service}^2$.\n",
    "\n",
    " 4. Any $p$, $w$, $k$:\n",
    "     - Service time: given by the solution of the $(n,w,1,p)$-window problem. Davies2023 provides an analytical method for $k=1$ but it is computationally expensive in general. We have to compute this with a simulation.\n",
    "     - Waiting time: the system becomes an M/G/k queue, where the waiting time can be approximated as $$\\mathbb{E}\\left[T_\\mathrm{wait}^{\\mathrm{M/G/}k}\\right] \\approx \\frac{C_\\mathrm{service}^2+1}{2} \\mathbb{E}\\left[T_\\mathrm{wait}^{\\mathrm{M/M/}k}\\right].$$ This approximation seems to be better for service time distributions with smaller $C_\\mathrm{service}^2$. Since the window problem has to be solved with a simulation, we may as well use the QCS simulation to compute the MST directly.\n",
    "\n",
    "\n",
    "In `VALIDATION-sQCS-exact.ipynb`,\n",
    " - ($i$) we use the analytical results to validate our QCS simulator in cases 1 and 2.\n",
    " \n",
    "In this notebook,\n",
    " - ($ii$) we use our QCS simulations to validate the analytical approximations in 3, and\n",
    " - ($iii$) we compare the approximate solutions to our QCS simulation results in 4."
   ]
  },
  {
   "cell_type": "code",
   "execution_count": 1,
   "id": "1053900c",
   "metadata": {},
   "outputs": [],
   "source": [
    "import numpy as np\n",
    "import math\n",
    "import importlib as imp\n",
    "import QCSsimulator as sim\n",
    "import matplotlib.pyplot as plt\n",
    "from tqdm.notebook import tqdm as tqdmn"
   ]
  },
  {
   "cell_type": "code",
   "execution_count": 2,
   "id": "cc7aac37",
   "metadata": {},
   "outputs": [],
   "source": [
    "# Reference units\n",
    "clock_cycle = 1 # [us]\n",
    "speed_light = 0.2 # [km/us] Speed of light in optical fiber\n",
    "\n",
    "# Protocol\n",
    "distribution = 'sequential'"
   ]
  },
  {
   "cell_type": "markdown",
   "id": "aa8ea9ad",
   "metadata": {},
   "source": [
    "---\n",
    "---\n",
    "---\n",
    "# 3. $w\\rightarrow\\infty$, $k>1$ (M/G/k) - validation of the analytical approximation"
   ]
  },
  {
   "cell_type": "markdown",
   "id": "d3077c22",
   "metadata": {},
   "source": [
    " - Service time: given by the solution of the $(n,\\infty,k,p)$-window problem. We have an analytical solution (which involves some nested sums).\n",
    " - Waiting time: the system becomes an M/G/k queue, where the waiting time can be approximated as $$\\mathbb{E}\\left[T_\\mathrm{wait}^{\\mathrm{M/G/}k}\\right] \\approx \\frac{C_\\mathrm{service}^2+1}{2} \\mathbb{E}\\left[T_\\mathrm{wait}^{\\mathrm{M/M/}k}\\right].$$ This approximation seems to be better for service time distributions with smaller $C_\\mathrm{service}^2$."
   ]
  },
  {
   "cell_type": "markdown",
   "id": "bc42beb5",
   "metadata": {},
   "source": [
    "### 3.1. $p=1$, $k=2$, $w\\rightarrow\\infty$"
   ]
  },
  {
   "cell_type": "code",
   "execution_count": 3,
   "id": "904d4735",
   "metadata": {},
   "outputs": [
    {
     "name": "stdout",
     "output_type": "stream",
     "text": [
      "travel_time = 100\n"
     ]
    }
   ],
   "source": [
    "# Topology\n",
    "u = 5 # Number of users in the star\n",
    "internode_distance = 10 # [km]\n",
    "travel_time = int(2*internode_distance/speed_light)\n",
    "print('travel_time = %d'%travel_time)\n",
    "\n",
    "# Requests\n",
    "n_request = 7 # Number of entanglements requested per request\n",
    "w_request = np.inf # [us] Time between delivery of first and last entangled pair\n",
    "request_rate_vec = np.logspace(-5,-3,5) # [1/us] Request submission rate per pair of users\n",
    "\n",
    "# Hardware\n",
    "k = 2 # Number of forwarding devices\n",
    "fwd_time = 1 # [us] Forwarding time\n",
    "p = 1 # Probability of successful packet\n",
    "control_time = 0 # [us]\n",
    "\n",
    "\n",
    "# Numerical\n",
    "N_samples = int(1e5)\n",
    "randomseed = 2"
   ]
  },
  {
   "cell_type": "code",
   "execution_count": 4,
   "id": "02c848f3",
   "metadata": {},
   "outputs": [
    {
     "data": {
      "application/vnd.jupyter.widget-view+json": {
       "model_id": "",
       "version_major": 2,
       "version_minor": 0
      },
      "text/plain": [
       "  0%|          | 0/5 [00:00<?, ?it/s]"
      ]
     },
     "metadata": {},
     "output_type": "display_data"
    }
   ],
   "source": [
    "imp.reload(sim)\n",
    "\n",
    "MST_theory_vec = []\n",
    "MST_sim_vec = []\n",
    "MSTerr_sim_vec = []\n",
    "\n",
    "for request_rate in tqdmn(request_rate_vec, leave=False):\n",
    "    MST_sim, MSTerr_sim = sim.QCS_simulation(distribution, n_request, w_request, u, k, p,\n",
    "                           request_rate, travel_time, fwd_time, control_time, N_samples, debugging=False)\n",
    "\n",
    "    MST_theory = sim.QCS_theory(distribution, n_request, w_request, u, k, p,\n",
    "                       request_rate, travel_time, fwd_time, control_time)[0]\n",
    "\n",
    "    MST_theory_vec += [MST_theory]\n",
    "    MST_sim_vec += [MST_sim]\n",
    "    MSTerr_sim_vec += [MSTerr_sim]"
   ]
  },
  {
   "cell_type": "code",
   "execution_count": 54,
   "id": "e3d63a11",
   "metadata": {},
   "outputs": [
    {
     "name": "stdout",
     "output_type": "stream",
     "text": [
      "5 users\n",
      "n = 7\n",
      "k = 2\n",
      "w = inf\n",
      "p = 1.000\n"
     ]
    },
    {
     "data": {
      "image/png": "[encoded data removed]",
      "text/plain": [
       "<Figure size 432x288 with 1 Axes>"
      ]
     },
     "metadata": {
      "needs_background": "light"
     },
     "output_type": "display_data"
    }
   ],
   "source": [
    "print('%d users'%u)\n",
    "print('n = %d'%n_request)\n",
    "print('k = %d'%k)\n",
    "print('w = %s'%w_request)\n",
    "print('p = %.3f'%p)\n",
    "\n",
    "plt.plot([request_rate_vec[0],request_rate_vec[-1]],\n",
    "         travel_time+n_request*fwd_time/p*np.ones(2),\n",
    "         label=r'Limit $\\lambda \\rightarrow 0$')\n",
    "plt.plot(request_rate_vec, MST_theory_vec, label='Theory (approx)')\n",
    "plt.errorbar(request_rate_vec, MST_sim_vec, yerr=2*np.array(MSTerr_sim_vec),\n",
    "             marker='o', linestyle='--', label='Simulation', capsize=5)\n",
    "plt.xscale('log')\n",
    "#plt.yscale('log')\n",
    "plt.xlim(request_rate_vec[0],request_rate_vec[-1])\n",
    "plt.legend()\n",
    "plt.xlabel(r'Request rate ($\\lambda$)')\n",
    "plt.ylabel(r'Mean Sojourn Time')\n",
    "plt.show()"
   ]
  },
  {
   "cell_type": "markdown",
   "id": "453b0218",
   "metadata": {},
   "source": [
    "### 3.2. $p=0.8$, $k=3$, $w\\rightarrow\\infty$"
   ]
  },
  {
   "cell_type": "code",
   "execution_count": 58,
   "id": "89875d56",
   "metadata": {},
   "outputs": [
    {
     "name": "stdout",
     "output_type": "stream",
     "text": [
      "travel_time = 100\n"
     ]
    }
   ],
   "source": [
    "# Topology\n",
    "u = 5 # Number of users in the star\n",
    "internode_distance = 10 # [km]\n",
    "travel_time = int(2*internode_distance/speed_light)\n",
    "print('travel_time = %d'%travel_time)\n",
    "\n",
    "# Requests\n",
    "n_request = 7 # Number of entanglements requested per request\n",
    "w_request = np.inf # [us] Time between delivery of first and last entangled pair\n",
    "request_rate_vec = np.logspace(-5,-2,10) # [1/us] Request submission rate per pair of users\n",
    "\n",
    "# Hardware\n",
    "k = 3 # Number of forwarding devices\n",
    "fwd_time = 1 # [us] Forwarding time\n",
    "p = 0.8 # Probability of successful packet\n",
    "control_time = 0 # [us]\n",
    "\n",
    "\n",
    "# Numerical\n",
    "N_samples = int(1e4)\n",
    "randomseed = 2"
   ]
  },
  {
   "cell_type": "code",
   "execution_count": 59,
   "id": "d203c67e",
   "metadata": {},
   "outputs": [
    {
     "data": {
      "application/vnd.jupyter.widget-view+json": {
       "model_id": "",
       "version_major": 2,
       "version_minor": 0
      },
      "text/plain": [
       "  0%|          | 0/10 [00:00<?, ?it/s]"
      ]
     },
     "metadata": {},
     "output_type": "display_data"
    }
   ],
   "source": [
    "imp.reload(sim)\n",
    "\n",
    "MST_theory_vec = []\n",
    "MST_sim_vec = []\n",
    "MSTerr_sim_vec = []\n",
    "\n",
    "for request_rate in tqdmn(request_rate_vec, leave=False):\n",
    "    MST_sim, MSTerr_sim = sim.QCS_simulation(distribution, n_request, w_request, u, k, p,\n",
    "                           request_rate, travel_time, fwd_time, control_time, N_samples, debugging=False)\n",
    "\n",
    "    MST_theory = sim.QCS_theory(distribution, n_request, w_request, u, k, p,\n",
    "                       request_rate, travel_time, fwd_time, control_time)[0]\n",
    "\n",
    "    MST_theory_vec += [MST_theory]\n",
    "    MST_sim_vec += [MST_sim]\n",
    "    MSTerr_sim_vec += [MSTerr_sim]"
   ]
  },
  {
   "cell_type": "code",
   "execution_count": 60,
   "id": "b37f3951",
   "metadata": {},
   "outputs": [
    {
     "name": "stdout",
     "output_type": "stream",
     "text": [
      "5 users\n",
      "n = 7\n",
      "k = 3\n",
      "w = inf\n",
      "p = 0.800\n"
     ]
    },
    {
     "data": {
      "image/png": "[encoded data removed]",
      "text/plain": [
       "<Figure size 432x288 with 1 Axes>"
      ]
     },
     "metadata": {
      "needs_background": "light"
     },
     "output_type": "display_data"
    }
   ],
   "source": [
    "print('%d users'%u)\n",
    "print('n = %d'%n_request)\n",
    "print('k = %d'%k)\n",
    "print('w = %s'%w_request)\n",
    "print('p = %.3f'%p)\n",
    "\n",
    "plt.plot([request_rate_vec[0],request_rate_vec[-1]],\n",
    "         travel_time+n_request*fwd_time/p*np.ones(2),\n",
    "         label=r'Limit $\\lambda \\rightarrow 0$')\n",
    "plt.plot(request_rate_vec, MST_theory_vec, label='Theory (approx)')\n",
    "plt.errorbar(request_rate_vec, MST_sim_vec, yerr=2*np.array(MSTerr_sim_vec),\n",
    "             marker='o', linestyle='--', label='Simulation', capsize=5)\n",
    "plt.xscale('log')\n",
    "#plt.yscale('log')\n",
    "plt.xlim(request_rate_vec[0],request_rate_vec[-1])\n",
    "plt.legend()\n",
    "plt.xlabel(r'Request rate ($\\lambda$)')\n",
    "plt.ylabel(r'Mean Sojourn Time')\n",
    "plt.show()"
   ]
  },
  {
   "cell_type": "markdown",
   "id": "ca5e5675",
   "metadata": {},
   "source": [
    "---\n",
    "---\n",
    "---\n",
    "# 4. Any $p$, $w$, $k$ (M/G/k) - full simulation"
   ]
  },
  {
   "cell_type": "markdown",
   "id": "18869090",
   "metadata": {},
   "source": [
    " - Service time: given by the solution of the $(n,w,k,p)$-window problem. Davies2023 provides an analytical method for $k=1$ but it is computationally expensive in general. We have to compute this with a simulation.\n",
    " - Waiting time: the system becomes an M/G/k queue, where the waiting time can be approximated as $$\\mathbb{E}\\left[T_\\mathrm{wait}^{\\mathrm{M/G/}k}\\right] \\approx \\frac{C_\\mathrm{service}^2+1}{2} \\mathbb{E}\\left[T_\\mathrm{wait}^{\\mathrm{M/M/}k}\\right].$$ This approximation seems to be better for service time distributions with smaller $C_\\mathrm{service}^2$.\n",
    "     \n",
    "Since the window problem (service time) has to be solved with a simulation, we will use the QCS simulation to compute the MST directly."
   ]
  }
 ],
 "metadata": {
  "kernelspec": {
   "display_name": "Python 3",
   "language": "python",
   "name": "python3"
  },
  "language_info": {
   "codemirror_mode": {
    "name": "ipython",
    "version": 3
   },
   "file_extension": ".py",
   "mimetype": "text/x-python",
   "name": "python",
   "nbconvert_exporter": "python",
   "pygments_lexer": "ipython3",
   "version": "3.8.8"
  }
 },
 "nbformat": 4,
 "nbformat_minor": 5
}
