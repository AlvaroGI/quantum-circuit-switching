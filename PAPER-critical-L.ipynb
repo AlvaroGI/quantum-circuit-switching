{
 "cells": [
  {
   "cell_type": "markdown",
   "id": "7a11a714",
   "metadata": {},
   "source": [
    "# Critical distance $L$"
   ]
  },
  {
   "cell_type": "markdown",
   "id": "b04c3d90",
   "metadata": {},
   "source": [
    "Here, we find the critical $L$ that makes the load equal to 1. To compute the critical $L$, we need to solve the window problem. This is done analytically when $p=1$ or $w\\rightarrow\\infty$ -- otherwise, it is estimated via a simulation."
   ]
  },
  {
   "cell_type": "code",
   "execution_count": 1,
   "id": "62c9b13a",
   "metadata": {},
   "outputs": [],
   "source": [
    "import numpy as np\n",
    "import math\n",
    "import importlib as imp\n",
    "import QCSsimulator as sim\n",
    "import matplotlib.pyplot as plt\n",
    "from tqdm.notebook import tqdm as tqdmn"
   ]
  },
  {
   "cell_type": "markdown",
   "id": "be14dd8c",
   "metadata": {},
   "source": [
    "## Fixed parameter values"
   ]
  },
  {
   "cell_type": "code",
   "execution_count": 2,
   "id": "58e2b9d2",
   "metadata": {},
   "outputs": [],
   "source": [
    "# Requests\n",
    "n_request = 7 # Number of entanglements requested per request\n",
    "request_rate = 1e-4 # [1/us] Request submission rate per pair of users"
   ]
  },
  {
   "cell_type": "markdown",
   "id": "1c9f7c87",
   "metadata": {},
   "source": [
    "$n$ only affects the service time distribution. When computing $u_\\mathrm{crit}$, we need the expected service time. Increasing $n$ would increase the expected service time but would not change the behavior of the system otherwise. Nevertheless, a large $n$ would increase the runtime of the simulation (and the analytics, since we need to compute more combinations of successful patterns). Hence, we choose a nontrivial value of $n$ that is not too large.\n",
    "\n",
    "$\\lambda_0$ has a similar effect, since it multiplies $\\mathbb{E}\\left[T_\\mathrm{service}\\right]$ in the calculation of $u_\\mathrm{crit}$. If $\\lambda_0$ is very small/large, the critical number of users will shift towards larger/smaller values. We choose a value of $\\lambda_0$ that provides interesting behavior for reasonable numbers of users (other values of $\\lambda_0$ would only shift the region of interest towards larger or smaller values of the other parameters)."
   ]
  },
  {
   "cell_type": "code",
   "execution_count": 3,
   "id": "bd3ada84",
   "metadata": {},
   "outputs": [],
   "source": [
    "# Topology\n",
    "u_vec = np.arange(2,20+1,1) # Number of users in the star\n",
    "\n",
    "# Hardware\n",
    "N_vec = [0,1,2,5] # Number of repeaters between each user and the hub\n",
    "fwd_time_0 = 100 # [us] Forwarding time"
   ]
  },
  {
   "cell_type": "markdown",
   "id": "a9ed6737",
   "metadata": {},
   "source": [
    "We focus on ranges of values of $u$ and $N$ that provide interesting behavior.\n",
    "\n",
    "The forwarding time of each forwarding station is assumed to be 100 $\\mu$s. This estimate is for qubits realized with color centers (such as nitrogen vacancies). A gate on those qubits takes around 1-50 $\\mu$s, and approximately ten gates (order of magnitude) are needed to forward a quantum data packet."
   ]
  },
  {
   "cell_type": "code",
   "execution_count": 4,
   "id": "8031bbfe",
   "metadata": {},
   "outputs": [],
   "source": [
    "# Reference units\n",
    "speed_light = 0.2 # [km/us] Speed of light in optical fiber"
   ]
  },
  {
   "cell_type": "markdown",
   "id": "d877373f",
   "metadata": {},
   "source": [
    "We assume the physical channels between users are optical fibers in which the speed of light is approximately $0.2$ km/$\\mu$s."
   ]
  },
  {
   "cell_type": "code",
   "execution_count": 5,
   "id": "aea12bf6",
   "metadata": {},
   "outputs": [],
   "source": [
    "# Other\n",
    "control_time = 0"
   ]
  },
  {
   "cell_type": "markdown",
   "id": "a37bde54",
   "metadata": {},
   "source": [
    "We assume negligible control time, since this does not affect the load of the system, which is used to compute the critical number of users."
   ]
  },
  {
   "cell_type": "code",
   "execution_count": 10,
   "id": "b515e814",
   "metadata": {},
   "outputs": [],
   "source": [
    "# Numerical (for solver)\n",
    "tolerance = 1e-3\n",
    "\n",
    "# Plots\n",
    "dark = False\n",
    "savefig = True"
   ]
  },
  {
   "cell_type": "markdown",
   "id": "4bc27d0d",
   "metadata": {},
   "source": [
    "---\n",
    "\n",
    "The critical distance can be upper bounded as $$ L_\\mathrm{crit} \\leq \\frac{c k}{\\lambda_0 u(u-1)m} - \\frac{c t_{\\mathrm{fwd}}}{2} \\left( 2N +\\left\\lceil \\frac{n}{m} \\right\\rceil \\right) $$\n",
    "\n",
    "\n",
    "Observation: when $w\\rightarrow\\infty$, the critical length is larger for sequential distribution???\n",
    "\n",
    "---"
   ]
  },
  {
   "cell_type": "markdown",
   "id": "6c8155bf",
   "metadata": {},
   "source": [
    "---\n",
    "---\n",
    "# INFINITE window - sequential"
   ]
  },
  {
   "cell_type": "code",
   "execution_count": 34,
   "id": "bc5b2bff",
   "metadata": {},
   "outputs": [],
   "source": [
    "distribution = 'sequential'\n",
    "\n",
    "N_vec = [0,2,5,10,20]\n",
    "\n",
    "# Requests\n",
    "w_request = np.inf # [us] Time between delivery of first and last entangled pair\n",
    "\n",
    "\n",
    "# Hardware\n",
    "k = 12 # Number of forwarding devices\n",
    "\n",
    "\n",
    "# Numerical\n",
    "N_samples = None\n",
    "randomseed = None"
   ]
  },
  {
   "cell_type": "code",
   "execution_count": 35,
   "id": "b2ce0180",
   "metadata": {
    "scrolled": false
   },
   "outputs": [
    {
     "data": {
      "image/png": "[encoded data removed]",
      "text/plain": [
       "<Figure size 432x288 with 1 Axes>"
      ]
     },
     "metadata": {
      "needs_background": "light"
     },
     "output_type": "display_data"
    }
   ],
   "source": [
    "imp.reload(sim)\n",
    "\n",
    "crit_L_vec = [np.zeros(len(u_vec)) for _ in N_vec]\n",
    "\n",
    "for idx_N, N in enumerate(N_vec):\n",
    "    for idx_u in range(len(u_vec)):\n",
    "        \n",
    "        u = u_vec[idx_u]\n",
    "                \n",
    "        critical_L = sim.find_critical_L(distribution, N, n_request, w_request, u, k, request_rate,\n",
    "                                         speed_light, fwd_time_0, control_time,\n",
    "                                         N_samples, randomseed, tolerance=tolerance)\n",
    "        crit_L_vec[idx_N][idx_u] = critical_L\n",
    "        \n",
    "sim.plot_critL_vs_u(crit_L_vec, distribution, N_vec, u_vec, n_request, w_request, k,\n",
    "                request_rate, speed_light, fwd_time_0, control_time, N_samples, randomseed, savefig=savefig)"
   ]
  },
  {
   "cell_type": "markdown",
   "id": "a15a889e",
   "metadata": {},
   "source": [
    "---\n",
    "---\n",
    "# INFINITE window - parallel"
   ]
  },
  {
   "cell_type": "code",
   "execution_count": 44,
   "id": "cf7801d5",
   "metadata": {},
   "outputs": [],
   "source": [
    "distribution = 'parallel'\n",
    "\n",
    "N_vec = [0,2,5,10,20]\n",
    "\n",
    "# Requests\n",
    "w_request = np.inf # [us] Time between delivery of first and last entangled pair\n",
    "\n",
    "\n",
    "# Hardware\n",
    "k = 18 # Number of forwarding devices\n",
    "\n",
    "\n",
    "# Numerical\n",
    "N_samples = int(1e2)\n",
    "randomseed = 2"
   ]
  },
  {
   "cell_type": "code",
   "execution_count": 45,
   "id": "304aa63d",
   "metadata": {
    "scrolled": false
   },
   "outputs": [
    {
     "data": {
      "application/vnd.jupyter.widget-view+json": {
       "model_id": "c438fff0dd274b869d431b11864b999e",
       "version_major": 2,
       "version_minor": 0
      },
      "text/plain": [
       "N = 0 repeaters:   0%|          | 0/19 [00:00<?, ?it/s]"
      ]
     },
     "metadata": {},
     "output_type": "display_data"
    },
    {
     "data": {
      "application/vnd.jupyter.widget-view+json": {
       "model_id": "146a2dc32c8f4f0aa948b66f52d187c2",
       "version_major": 2,
       "version_minor": 0
      },
      "text/plain": [
       "N = 2 repeaters:   0%|          | 0/19 [00:00<?, ?it/s]"
      ]
     },
     "metadata": {},
     "output_type": "display_data"
    },
    {
     "data": {
      "application/vnd.jupyter.widget-view+json": {
       "model_id": "38316c80cda440d881e33c1034521b41",
       "version_major": 2,
       "version_minor": 0
      },
      "text/plain": [
       "N = 5 repeaters:   0%|          | 0/19 [00:00<?, ?it/s]"
      ]
     },
     "metadata": {},
     "output_type": "display_data"
    },
    {
     "data": {
      "application/vnd.jupyter.widget-view+json": {
       "model_id": "63cb30df9cf44feebdf859a777b15998",
       "version_major": 2,
       "version_minor": 0
      },
      "text/plain": [
       "N = 10 repeaters:   0%|          | 0/19 [00:00<?, ?it/s]"
      ]
     },
     "metadata": {},
     "output_type": "display_data"
    },
    {
     "data": {
      "application/vnd.jupyter.widget-view+json": {
       "model_id": "c9ffb7d8f2c54a2ba672f111136222d5",
       "version_major": 2,
       "version_minor": 0
      },
      "text/plain": [
       "N = 20 repeaters:   0%|          | 0/19 [00:00<?, ?it/s]"
      ]
     },
     "metadata": {},
     "output_type": "display_data"
    },
    {
     "data": {
      "image/png": "[encoded data removed]",
      "text/plain": [
       "<Figure size 432x288 with 1 Axes>"
      ]
     },
     "metadata": {
      "needs_background": "light"
     },
     "output_type": "display_data"
    }
   ],
   "source": [
    "imp.reload(sim)\n",
    "\n",
    "crit_L_vec = [np.zeros(len(u_vec)) for _ in N_vec]\n",
    "\n",
    "for idx_N, N in enumerate(N_vec):\n",
    "    for idx_u in tqdmn(range(len(u_vec)), 'N = %d repeaters'%N, leave='False'):\n",
    "        \n",
    "        u = u_vec[idx_u]\n",
    "                \n",
    "        critical_L = sim.find_critical_L(distribution, N, n_request, w_request, u, k, request_rate,\n",
    "                                         speed_light, fwd_time_0, control_time,\n",
    "                                         N_samples, randomseed, tolerance=tolerance)\n",
    "        crit_L_vec[idx_N][idx_u] = critical_L\n",
    "        \n",
    "sim.plot_critL_vs_u(crit_L_vec, distribution, N_vec, u_vec, n_request, w_request, k,\n",
    "                request_rate, speed_light, fwd_time_0, control_time, N_samples, randomseed, savefig=savefig)"
   ]
  },
  {
   "cell_type": "markdown",
   "id": "542f0ee3",
   "metadata": {},
   "source": [
    "---\n",
    "---\n",
    "# FINITE window - sequential"
   ]
  },
  {
   "cell_type": "code",
   "execution_count": 26,
   "id": "9235e00e",
   "metadata": {},
   "outputs": [],
   "source": [
    "distribution = 'sequential'\n",
    "\n",
    "N_vec = [0,2,5,10,20]\n",
    "\n",
    "# Requests\n",
    "w_request = 8 # [us] Time between delivery of first and last entangled pair\n",
    "\n",
    "\n",
    "# Hardware\n",
    "k = 12 # Number of forwarding devices\n",
    "\n",
    "\n",
    "# Numerical\n",
    "N_samples = int(1e4)\n",
    "randomseed = 2"
   ]
  },
  {
   "cell_type": "code",
   "execution_count": 27,
   "id": "b6aacf91",
   "metadata": {
    "scrolled": false
   },
   "outputs": [
    {
     "data": {
      "application/vnd.jupyter.widget-view+json": {
       "model_id": "256200841df34ea9831fd2ea6bf17344",
       "version_major": 2,
       "version_minor": 0
      },
      "text/plain": [
       "N = 0 repeaters:   0%|          | 0/19 [00:00<?, ?it/s]"
      ]
     },
     "metadata": {},
     "output_type": "display_data"
    },
    {
     "data": {
      "application/vnd.jupyter.widget-view+json": {
       "model_id": "78b87e9e67dc4f538dce581c4663dacd",
       "version_major": 2,
       "version_minor": 0
      },
      "text/plain": [
       "N = 2 repeaters:   0%|          | 0/19 [00:00<?, ?it/s]"
      ]
     },
     "metadata": {},
     "output_type": "display_data"
    },
    {
     "data": {
      "application/vnd.jupyter.widget-view+json": {
       "model_id": "2a448b5e1a324b5c91d139f33985b9e9",
       "version_major": 2,
       "version_minor": 0
      },
      "text/plain": [
       "N = 5 repeaters:   0%|          | 0/19 [00:00<?, ?it/s]"
      ]
     },
     "metadata": {},
     "output_type": "display_data"
    },
    {
     "data": {
      "application/vnd.jupyter.widget-view+json": {
       "model_id": "31a40f4e5608473f9533bd596c10e5d7",
       "version_major": 2,
       "version_minor": 0
      },
      "text/plain": [
       "N = 10 repeaters:   0%|          | 0/19 [00:00<?, ?it/s]"
      ]
     },
     "metadata": {},
     "output_type": "display_data"
    },
    {
     "data": {
      "application/vnd.jupyter.widget-view+json": {
       "model_id": "21b35315ea064d7998ca03925da64631",
       "version_major": 2,
       "version_minor": 0
      },
      "text/plain": [
       "N = 20 repeaters:   0%|          | 0/19 [00:00<?, ?it/s]"
      ]
     },
     "metadata": {},
     "output_type": "display_data"
    },
    {
     "data": {
      "image/png": "[encoded data removed]",
      "text/plain": [
       "<Figure size 432x288 with 1 Axes>"
      ]
     },
     "metadata": {
      "needs_background": "light"
     },
     "output_type": "display_data"
    }
   ],
   "source": [
    "imp.reload(sim)\n",
    "\n",
    "crit_L_vec = [np.zeros(len(u_vec)) for _ in N_vec]\n",
    "\n",
    "for idx_N, N in enumerate(N_vec):\n",
    "    for idx_u in tqdmn(range(len(u_vec)), 'N = %d repeaters'%N, leave='False'):\n",
    "        \n",
    "        u = u_vec[idx_u]\n",
    "                \n",
    "        critical_L = sim.find_critical_L(distribution, N, n_request, w_request, u, k, request_rate,\n",
    "                                         speed_light, fwd_time_0, control_time,\n",
    "                                         N_samples, randomseed, tolerance=tolerance)\n",
    "        crit_L_vec[idx_N][idx_u] = critical_L\n",
    "        \n",
    "sim.plot_critL_vs_u(crit_L_vec, distribution, N_vec, u_vec, n_request, w_request, k,\n",
    "                request_rate, speed_light, fwd_time_0, control_time, N_samples, randomseed, savefig=savefig)"
   ]
  },
  {
   "cell_type": "markdown",
   "id": "74d38fe3",
   "metadata": {},
   "source": [
    "---\n",
    "\n",
    "### CONCLUSIONS:\n",
    "\n",
    " -\n",
    "---"
   ]
  },
  {
   "cell_type": "code",
   "execution_count": null,
   "id": "8a9c7299",
   "metadata": {},
   "outputs": [],
   "source": []
  },
  {
   "cell_type": "code",
   "execution_count": null,
   "id": "b15be496",
   "metadata": {},
   "outputs": [],
   "source": []
  },
  {
   "cell_type": "code",
   "execution_count": null,
   "id": "3cb1e6da",
   "metadata": {},
   "outputs": [],
   "source": []
  },
  {
   "cell_type": "code",
   "execution_count": null,
   "id": "d62efcf0",
   "metadata": {},
   "outputs": [],
   "source": []
  },
  {
   "cell_type": "code",
   "execution_count": null,
   "id": "3b421056",
   "metadata": {},
   "outputs": [],
   "source": []
  },
  {
   "cell_type": "code",
   "execution_count": null,
   "id": "df4a0fa1",
   "metadata": {},
   "outputs": [],
   "source": []
  },
  {
   "cell_type": "code",
   "execution_count": null,
   "id": "15622ef7",
   "metadata": {},
   "outputs": [],
   "source": []
  }
 ],
 "metadata": {
  "kernelspec": {
   "display_name": "Python 3",
   "language": "python",
   "name": "python3"
  },
  "language_info": {
   "codemirror_mode": {
    "name": "ipython",
    "version": 3
   },
   "file_extension": ".py",
   "mimetype": "text/x-python",
   "name": "python",
   "nbconvert_exporter": "python",
   "pygments_lexer": "ipython3",
   "version": "3.8.8"
  }
 },
 "nbformat": 4,
 "nbformat_minor": 5
}
